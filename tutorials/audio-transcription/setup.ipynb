{
 "cells": [
  {
   "cell_type": "markdown",
   "id": "48f082e7",
   "metadata": {},
   "source": [
    "## Make sure we have our dependencies"
   ]
  },
  {
   "cell_type": "markdown",
   "id": "4c1823fc",
   "metadata": {},
   "source": [
    "### Now, because we have a Dockerfile for our development environment... this should just work...\n",
    "To run your determined Jupyter notebook with this image...\n",
    "\n",
    "```yaml\n",
    "## replace this \n",
    "environment:\n",
    "  add_capabilities: null\n",
    "  drop_capabilities: null\n",
    "  environment_variables: {}\n",
    "  force_pull_image: false\n",
    "  image:\n",
    "    cpu: determinedai/environments:py-3.8-pytorch-1.10-tf-2.8-cpu-9119094\n",
    "    cuda: determinedai/environments:cuda-11.3-pytorch-1.10-tf-2.8-gpu-9119094 ### this guy right here\n",
    "\n",
    "##replace it with this \n",
    "\n",
    "    cuda: katestephens/kate-nemo:0.0.4\n",
    "\n",
    "## you're welcome :)\n",
    "```\n"
   ]
  },
  {
   "cell_type": "markdown",
   "id": "3020d225",
   "metadata": {},
   "source": [
    "### If you don't want to use Jupyter in Determined and you just wanna use VSCode in a Determined shell... do the below\n",
    "create a `determined_config.yaml` in your homedir on your local machine with the following\n",
    "```yaml\n",
    "bind_mounts:\n",
    "  - container_path: /run/determined/workdir/shared_fs\n",
    "    host_path: /mnt/mapr_nfs/edf.ailab.local/determined/det_share\n",
    "    propagation: rprivate\n",
    "    read_only: false\n",
    "  - container_path: /determined_shared_fs\n",
    "    host_path: /mnt/mapr_nfs/edf.ailab.local/determined/det_checkpoints\n",
    "    propagation: rprivate\n",
    "    read_only: false\n",
    "  - container_path: /mnt/mapr_nfs\n",
    "    host_path: /mnt/mapr_nfs\n",
    "    propagation: rprivate\n",
    "    read_only: false\n",
    "debug: false\n",
    "description: my-awesome-nb\n",
    "entrypoint: null\n",
    "environment:\n",
    "  add_capabilities: null\n",
    "  drop_capabilities: null\n",
    "  environment_variables: {}\n",
    "  force_pull_image: false\n",
    "  image:\n",
    "    cpu: determinedai/environments:py-3.8-pytorch-1.10-tf-2.8-cpu-9119094\n",
    "    cuda: katestephens/kate-nemo:0.0.4\n",
    "  pod_spec: null\n",
    "  ports: null\n",
    "  slurm: null\n",
    "idle_timeout: null\n",
    "notebook_idle_type: kernels_or_terminals\n",
    "resources:\n",
    "  agent_label: ''\n",
    "  devices: null\n",
    "  resource_pool: kubernetes\n",
    "  slots: 1\n",
    "  weight: 1\n",
    "work_dir: null\n",
    "```\n",
    "Now... you'll want to make sure you have the mapping to det master in your local dev environment\n",
    "```bash\n",
    "echo $DET_MASTER\n",
    "```\n",
    "\n",
    "if nothing shows up...\n",
    "`export DET_MASTER=<ipaddrOfDet:port>`\n",
    "better yet... add it to your `~/.bashrc` and `source ~/.bashrc`\n",
    "\n",
    "To test that you're really talking to `DET_MASTER` run `det shell list` from your terminal\n",
    "\n",
    "To start a shell with the config/docker image loaded from YOUR terminal run\n",
    "```bash\n",
    "det shell start --show-ssh-command --config-file ~/determined_config.yaml\n",
    "```\n",
    "\n",
    "Then add the ssh host to your vscode instance (https://docs.determined.ai/latest/interfaces/ide-integration.html#visual-studio-code)"
   ]
  },
  {
   "cell_type": "markdown",
   "id": "330862b7",
   "metadata": {},
   "source": [
    "### Last Step... we wanna check our dependencies... especially apex..."
   ]
  },
  {
   "cell_type": "code",
   "execution_count": null,
   "id": "9dc814d6-1d71-4049-aba1-7db25cfe0b98",
   "metadata": {},
   "outputs": [],
   "source": [
    "#make sure we have all our dependencies\n",
    "import os\n",
    "from os.path import exists, join, basename, splitext\n",
    "\n",
    "if not exists('apex'):\n",
    " !pip list | grep apex\n",
    " !echo \"did I return apex?! If not... oopsie no Apex found uncomment the lines in this block\"\n",
    "  #!git clone https://github.com/NVIDIA/apex\n",
    "  #!cd ./apex && pip install -v --disable-pip-version-check --no-cache-dir --global-option=\"--cpp_ext\" --global-option=\"--cuda_ext\" ./"
   ]
  },
  {
   "cell_type": "code",
   "execution_count": 1,
   "id": "aeb17ee5",
   "metadata": {},
   "outputs": [
    {
     "name": "stdout",
     "output_type": "stream",
     "text": [
      "Collecting pytube\n",
      "  Downloading pytube-12.1.0-py3-none-any.whl (56 kB)\n",
      "\u001b[2K     \u001b[90m━━━━━━━━━━━━━━━━━━━━━━━━━━━━━━━━━━━━━━━\u001b[0m \u001b[32m56.5/56.5 kB\u001b[0m \u001b[31m862.6 kB/s\u001b[0m eta \u001b[36m0:00:00\u001b[0ma \u001b[36m0:00:01\u001b[0m\n",
      "\u001b[?25hInstalling collected packages: pytube\n",
      "Successfully installed pytube-12.1.0\n"
     ]
    }
   ],
   "source": [
    "!pip install pytube"
   ]
  },
  {
   "cell_type": "code",
   "execution_count": 11,
   "id": "44b073dc",
   "metadata": {},
   "outputs": [],
   "source": [
    "import os\n",
    "from pytube import YouTube\n",
    "YOUTUBE_URL= \"https://youtu.be/ufjTT9WCt9c\"\n",
    "url = YouTube(str(YOUTUBE_URL))\n",
    "\n",
    "audio_stream = url.streams.filter(only_audio=True).first()\n",
    "out_file = audio_stream.download(output_path=\"./tmp/\")\n",
    "\n",
    "base, ext = os.path.splitext(out_file)\n",
    "new_file = base + '.wav'\n"
   ]
  },
  {
   "cell_type": "code",
   "execution_count": 15,
   "id": "de7be66d",
   "metadata": {},
   "outputs": [
    {
     "name": "stdout",
     "output_type": "stream",
     "text": [
      "[<Stream: itag=\"139\" mime_type=\"audio/mp4\" abr=\"48kbps\" acodec=\"mp4a.40.5\" progressive=\"False\" type=\"audio\">, <Stream: itag=\"140\" mime_type=\"audio/mp4\" abr=\"128kbps\" acodec=\"mp4a.40.2\" progressive=\"False\" type=\"audio\">, <Stream: itag=\"249\" mime_type=\"audio/webm\" abr=\"50kbps\" acodec=\"opus\" progressive=\"False\" type=\"audio\">, <Stream: itag=\"250\" mime_type=\"audio/webm\" abr=\"70kbps\" acodec=\"opus\" progressive=\"False\" type=\"audio\">, <Stream: itag=\"251\" mime_type=\"audio/webm\" abr=\"160kbps\" acodec=\"opus\" progressive=\"False\" type=\"audio\">]\n"
     ]
    }
   ],
   "source": [
    "print(url.streams.filter(only_audio=True))"
   ]
  },
  {
   "cell_type": "code",
   "execution_count": 17,
   "id": "151ac5f7",
   "metadata": {},
   "outputs": [
    {
     "name": "stdout",
     "output_type": "stream",
     "text": [
      "Requirement already satisfied: youtube_dl in /Users/kthorpe/miniconda3/envs/movierec/lib/python3.9/site-packages (2021.12.17)\n",
      "\u001b[31mERROR: Could not find a version that satisfies the requirement os (from versions: none)\u001b[0m\u001b[31m\n",
      "\u001b[0m\u001b[31mERROR: No matching distribution found for os\u001b[0m\u001b[31m\n",
      "\u001b[0mRequirement already satisfied: pytube in /Users/kthorpe/miniconda3/envs/movierec/lib/python3.9/site-packages (12.1.0)\n"
     ]
    }
   ],
   "source": [
    "!pip install youtube_dl\n",
    "!pip install os\n",
    "!pip install pytube"
   ]
  },
  {
   "cell_type": "code",
   "execution_count": 9,
   "id": "eb506032",
   "metadata": {},
   "outputs": [
    {
     "name": "stdout",
     "output_type": "stream",
     "text": [
      "[youtube] BaW_jenozKc: Downloading webpage\n",
      "[download] Destination: youtube-dl test video ''_ä↭𝕐-BaW_jenozKc.m4a\n",
      "[download] 100% of 154.06KiB in 00:0270KiB/s ETA 00:00\n",
      "[ffmpeg] Correcting container in \"youtube-dl test video ''_ä↭𝕐-BaW_jenozKc.m4a\"\n",
      "[ffmpeg] Destination: youtube-dl test video ''_ä↭𝕐-BaW_jenozKc.wav\n",
      "Deleting original file youtube-dl test video ''_ä↭𝕐-BaW_jenozKc.m4a (pass -k to keep)\n"
     ]
    }
   ],
   "source": [
    "from __future__ import unicode_literals\n",
    "import youtube_dl\n",
    "\n",
    "\n",
    "ydl_opts = {\n",
    "    'format': 'bestaudio/best',\n",
    "    'postprocessors': [{\n",
    "        'key': 'FFmpegExtractAudio',\n",
    "        'preferredcodec': 'wav',\n",
    "    }],\n",
    "}\n",
    "with youtube_dl.YoutubeDL(ydl_opts) as ydl:\n",
    "    ydl.download(['http://www.youtube.com/watch?v=BaW_jenozKc'])"
   ]
  },
  {
   "cell_type": "code",
   "execution_count": null,
   "id": "48c328fb",
   "metadata": {},
   "outputs": [],
   "source": []
  }
 ],
 "metadata": {
  "kernelspec": {
   "display_name": "Python 3.9.13 ('movierec')",
   "language": "python",
   "name": "python3"
  },
  "language_info": {
   "codemirror_mode": {
    "name": "ipython",
    "version": 3
   },
   "file_extension": ".py",
   "mimetype": "text/x-python",
   "name": "python",
   "nbconvert_exporter": "python",
   "pygments_lexer": "ipython3",
   "version": "3.9.13"
  },
  "vscode": {
   "interpreter": {
    "hash": "26fe660a9a652c01f05957848d1cebe6710a5fa64e8478bde34c043ce348248a"
   }
  }
 },
 "nbformat": 4,
 "nbformat_minor": 5
}
